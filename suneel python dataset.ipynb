{
 "cells": [
  {
   "cell_type": "code",
   "execution_count": 13,
   "id": "da3ab4d9",
   "metadata": {},
   "outputs": [],
   "source": [
    "import pandas as pd\n",
    "import numpy as np\n",
    "d1 = {\"id\":[1,2,3,4], \n",
    "        \"first\":['a','b','c','d'],\n",
    "         \"last\":['e','f','g','h']}"
   ]
  },
  {
   "cell_type": "code",
   "execution_count": 19,
   "id": "b07fb12c",
   "metadata": {},
   "outputs": [],
   "source": [
    "d2 = {\"id2\":[1,2,3,4],\n",
    "        \"first2\":['a','b','c','z'],\n",
    "         \"last2\":['e','f','g','h']}"
   ]
  },
  {
   "cell_type": "code",
   "execution_count": 20,
   "id": "32524ffc",
   "metadata": {},
   "outputs": [],
   "source": [
    "df1 = pd.DataFrame(d1)"
   ]
  },
  {
   "cell_type": "code",
   "execution_count": 21,
   "id": "3f005c2e",
   "metadata": {},
   "outputs": [
    {
     "data": {
      "text/html": [
       "<div>\n",
       "<style scoped>\n",
       "    .dataframe tbody tr th:only-of-type {\n",
       "        vertical-align: middle;\n",
       "    }\n",
       "\n",
       "    .dataframe tbody tr th {\n",
       "        vertical-align: top;\n",
       "    }\n",
       "\n",
       "    .dataframe thead th {\n",
       "        text-align: right;\n",
       "    }\n",
       "</style>\n",
       "<table border=\"1\" class=\"dataframe\">\n",
       "  <thead>\n",
       "    <tr style=\"text-align: right;\">\n",
       "      <th></th>\n",
       "      <th>id</th>\n",
       "      <th>first</th>\n",
       "      <th>last</th>\n",
       "    </tr>\n",
       "  </thead>\n",
       "  <tbody>\n",
       "    <tr>\n",
       "      <th>0</th>\n",
       "      <td>1</td>\n",
       "      <td>a</td>\n",
       "      <td>e</td>\n",
       "    </tr>\n",
       "    <tr>\n",
       "      <th>1</th>\n",
       "      <td>2</td>\n",
       "      <td>b</td>\n",
       "      <td>f</td>\n",
       "    </tr>\n",
       "    <tr>\n",
       "      <th>2</th>\n",
       "      <td>3</td>\n",
       "      <td>c</td>\n",
       "      <td>g</td>\n",
       "    </tr>\n",
       "    <tr>\n",
       "      <th>3</th>\n",
       "      <td>4</td>\n",
       "      <td>d</td>\n",
       "      <td>h</td>\n",
       "    </tr>\n",
       "  </tbody>\n",
       "</table>\n",
       "</div>"
      ],
      "text/plain": [
       "   id first last\n",
       "0   1     a    e\n",
       "1   2     b    f\n",
       "2   3     c    g\n",
       "3   4     d    h"
      ]
     },
     "execution_count": 21,
     "metadata": {},
     "output_type": "execute_result"
    }
   ],
   "source": [
    "df1"
   ]
  },
  {
   "cell_type": "code",
   "execution_count": 22,
   "id": "1e10657b",
   "metadata": {},
   "outputs": [],
   "source": [
    "df2 = pd.DataFrame(d2)"
   ]
  },
  {
   "cell_type": "code",
   "execution_count": 23,
   "id": "30f5b880",
   "metadata": {},
   "outputs": [
    {
     "data": {
      "text/html": [
       "<div>\n",
       "<style scoped>\n",
       "    .dataframe tbody tr th:only-of-type {\n",
       "        vertical-align: middle;\n",
       "    }\n",
       "\n",
       "    .dataframe tbody tr th {\n",
       "        vertical-align: top;\n",
       "    }\n",
       "\n",
       "    .dataframe thead th {\n",
       "        text-align: right;\n",
       "    }\n",
       "</style>\n",
       "<table border=\"1\" class=\"dataframe\">\n",
       "  <thead>\n",
       "    <tr style=\"text-align: right;\">\n",
       "      <th></th>\n",
       "      <th>id2</th>\n",
       "      <th>first2</th>\n",
       "      <th>last2</th>\n",
       "    </tr>\n",
       "  </thead>\n",
       "  <tbody>\n",
       "    <tr>\n",
       "      <th>0</th>\n",
       "      <td>1</td>\n",
       "      <td>a</td>\n",
       "      <td>e</td>\n",
       "    </tr>\n",
       "    <tr>\n",
       "      <th>1</th>\n",
       "      <td>2</td>\n",
       "      <td>b</td>\n",
       "      <td>f</td>\n",
       "    </tr>\n",
       "    <tr>\n",
       "      <th>2</th>\n",
       "      <td>3</td>\n",
       "      <td>c</td>\n",
       "      <td>g</td>\n",
       "    </tr>\n",
       "    <tr>\n",
       "      <th>3</th>\n",
       "      <td>4</td>\n",
       "      <td>z</td>\n",
       "      <td>h</td>\n",
       "    </tr>\n",
       "  </tbody>\n",
       "</table>\n",
       "</div>"
      ],
      "text/plain": [
       "   id2 first2 last2\n",
       "0    1      a     e\n",
       "1    2      b     f\n",
       "2    3      c     g\n",
       "3    4      z     h"
      ]
     },
     "execution_count": 23,
     "metadata": {},
     "output_type": "execute_result"
    }
   ],
   "source": [
    "df2"
   ]
  },
  {
   "cell_type": "code",
   "execution_count": 27,
   "id": "4248a1c9",
   "metadata": {},
   "outputs": [],
   "source": [
    "d1 = pd.merge(df1,df2,how= 'outer',left_on=\"id\", right_on=\"id2\",)"
   ]
  },
  {
   "cell_type": "code",
   "execution_count": 28,
   "id": "c0219a8b",
   "metadata": {},
   "outputs": [
    {
     "data": {
      "text/html": [
       "<div>\n",
       "<style scoped>\n",
       "    .dataframe tbody tr th:only-of-type {\n",
       "        vertical-align: middle;\n",
       "    }\n",
       "\n",
       "    .dataframe tbody tr th {\n",
       "        vertical-align: top;\n",
       "    }\n",
       "\n",
       "    .dataframe thead th {\n",
       "        text-align: right;\n",
       "    }\n",
       "</style>\n",
       "<table border=\"1\" class=\"dataframe\">\n",
       "  <thead>\n",
       "    <tr style=\"text-align: right;\">\n",
       "      <th></th>\n",
       "      <th>id</th>\n",
       "      <th>first</th>\n",
       "      <th>last</th>\n",
       "      <th>id2</th>\n",
       "      <th>first2</th>\n",
       "      <th>last2</th>\n",
       "    </tr>\n",
       "  </thead>\n",
       "  <tbody>\n",
       "    <tr>\n",
       "      <th>0</th>\n",
       "      <td>1</td>\n",
       "      <td>a</td>\n",
       "      <td>e</td>\n",
       "      <td>1</td>\n",
       "      <td>a</td>\n",
       "      <td>e</td>\n",
       "    </tr>\n",
       "    <tr>\n",
       "      <th>1</th>\n",
       "      <td>2</td>\n",
       "      <td>b</td>\n",
       "      <td>f</td>\n",
       "      <td>2</td>\n",
       "      <td>b</td>\n",
       "      <td>f</td>\n",
       "    </tr>\n",
       "    <tr>\n",
       "      <th>2</th>\n",
       "      <td>3</td>\n",
       "      <td>c</td>\n",
       "      <td>g</td>\n",
       "      <td>3</td>\n",
       "      <td>c</td>\n",
       "      <td>g</td>\n",
       "    </tr>\n",
       "    <tr>\n",
       "      <th>3</th>\n",
       "      <td>4</td>\n",
       "      <td>d</td>\n",
       "      <td>h</td>\n",
       "      <td>4</td>\n",
       "      <td>z</td>\n",
       "      <td>h</td>\n",
       "    </tr>\n",
       "  </tbody>\n",
       "</table>\n",
       "</div>"
      ],
      "text/plain": [
       "   id first last  id2 first2 last2\n",
       "0   1     a    e    1      a     e\n",
       "1   2     b    f    2      b     f\n",
       "2   3     c    g    3      c     g\n",
       "3   4     d    h    4      z     h"
      ]
     },
     "execution_count": 28,
     "metadata": {},
     "output_type": "execute_result"
    }
   ],
   "source": [
    "d1"
   ]
  },
  {
   "cell_type": "code",
   "execution_count": 30,
   "id": "1414c2cd",
   "metadata": {},
   "outputs": [],
   "source": [
    "look_up = {\"sourse\":[\"id\",\"first\",\"last\"],\n",
    "            \"target\":[\"id2\",\"first2\",\"last2\"]}"
   ]
  },
  {
   "cell_type": "code",
   "execution_count": 31,
   "id": "1e7116ae",
   "metadata": {},
   "outputs": [],
   "source": [
    "dlookup = pd.DataFrame(look_up)"
   ]
  },
  {
   "cell_type": "code",
   "execution_count": 32,
   "id": "6062adc6",
   "metadata": {},
   "outputs": [
    {
     "data": {
      "text/html": [
       "<div>\n",
       "<style scoped>\n",
       "    .dataframe tbody tr th:only-of-type {\n",
       "        vertical-align: middle;\n",
       "    }\n",
       "\n",
       "    .dataframe tbody tr th {\n",
       "        vertical-align: top;\n",
       "    }\n",
       "\n",
       "    .dataframe thead th {\n",
       "        text-align: right;\n",
       "    }\n",
       "</style>\n",
       "<table border=\"1\" class=\"dataframe\">\n",
       "  <thead>\n",
       "    <tr style=\"text-align: right;\">\n",
       "      <th></th>\n",
       "      <th>sourse</th>\n",
       "      <th>target</th>\n",
       "    </tr>\n",
       "  </thead>\n",
       "  <tbody>\n",
       "    <tr>\n",
       "      <th>0</th>\n",
       "      <td>id</td>\n",
       "      <td>id2</td>\n",
       "    </tr>\n",
       "    <tr>\n",
       "      <th>1</th>\n",
       "      <td>first</td>\n",
       "      <td>first2</td>\n",
       "    </tr>\n",
       "    <tr>\n",
       "      <th>2</th>\n",
       "      <td>last</td>\n",
       "      <td>last2</td>\n",
       "    </tr>\n",
       "  </tbody>\n",
       "</table>\n",
       "</div>"
      ],
      "text/plain": [
       "  sourse  target\n",
       "0     id     id2\n",
       "1  first  first2\n",
       "2   last   last2"
      ]
     },
     "execution_count": 32,
     "metadata": {},
     "output_type": "execute_result"
    }
   ],
   "source": [
    "dlookup"
   ]
  },
  {
   "cell_type": "code",
   "execution_count": 35,
   "id": "c60185b5",
   "metadata": {},
   "outputs": [],
   "source": [
    "dic = dlookup.to_dict()\n"
   ]
  },
  {
   "cell_type": "code",
   "execution_count": 49,
   "id": "685dce07",
   "metadata": {},
   "outputs": [
    {
     "data": {
      "text/plain": [
       "{'sourse': {0: 'id', 1: 'first', 2: 'last'},\n",
       " 'target': {0: 'id2', 1: 'first2', 2: 'last2'}}"
      ]
     },
     "execution_count": 49,
     "metadata": {},
     "output_type": "execute_result"
    }
   ],
   "source": [
    "dic"
   ]
  },
  {
   "cell_type": "code",
   "execution_count": 50,
   "id": "d7939b09",
   "metadata": {},
   "outputs": [],
   "source": [
    "sourse = dic[\"sourse\"]"
   ]
  },
  {
   "cell_type": "code",
   "execution_count": 54,
   "id": "fb4abc67",
   "metadata": {},
   "outputs": [],
   "source": [
    "target = dic[\"target\"]"
   ]
  },
  {
   "cell_type": "code",
   "execution_count": 55,
   "id": "b3dde5d2",
   "metadata": {},
   "outputs": [],
   "source": [
    "length = len(sourse)"
   ]
  },
  {
   "cell_type": "code",
   "execution_count": 56,
   "id": "0ff94173",
   "metadata": {},
   "outputs": [
    {
     "data": {
      "text/plain": [
       "3"
      ]
     },
     "execution_count": 56,
     "metadata": {},
     "output_type": "execute_result"
    }
   ],
   "source": [
    "length"
   ]
  },
  {
   "cell_type": "code",
   "execution_count": null,
   "id": "334c94f5",
   "metadata": {},
   "outputs": [],
   "source": []
  },
  {
   "cell_type": "code",
   "execution_count": 89,
   "id": "e74c4bff",
   "metadata": {},
   "outputs": [
    {
     "name": "stdout",
     "output_type": "stream",
     "text": [
      "0     True\n",
      "1     True\n",
      "2     True\n",
      "3    False\n",
      "Name: firstfirst2, dtype: bool\n",
      "a\n",
      "a\n",
      "0     True\n",
      "1     True\n",
      "2     True\n",
      "3    False\n",
      "Name: firstfirst2, dtype: bool\n",
      "b\n",
      "b\n",
      "0     True\n",
      "1     True\n",
      "2     True\n",
      "3    False\n",
      "Name: firstfirst2, dtype: bool\n",
      "c\n",
      "c\n",
      "0     True\n",
      "1     True\n",
      "2     True\n",
      "3    False\n",
      "Name: firstfirst2, dtype: bool\n",
      "d\n",
      "z\n",
      "0     True\n",
      "1     True\n",
      "2     True\n",
      "3    False\n",
      "Name: firstfirst2, dtype: bool\n",
      "a\n",
      "a\n",
      "0     True\n",
      "1     True\n",
      "2     True\n",
      "3    False\n",
      "Name: firstfirst2, dtype: bool\n",
      "b\n",
      "b\n",
      "0     True\n",
      "1     True\n",
      "2     True\n",
      "3    False\n",
      "Name: firstfirst2, dtype: bool\n",
      "c\n",
      "c\n",
      "0     True\n",
      "1     True\n",
      "2     True\n",
      "3    False\n",
      "Name: firstfirst2, dtype: bool\n",
      "d\n",
      "z\n",
      "0     True\n",
      "1     True\n",
      "2     True\n",
      "3    False\n",
      "Name: firstfirst2, dtype: bool\n",
      "a\n",
      "a\n",
      "0     True\n",
      "1     True\n",
      "2     True\n",
      "3    False\n",
      "Name: firstfirst2, dtype: bool\n",
      "b\n",
      "b\n",
      "0     True\n",
      "1     True\n",
      "2     True\n",
      "3    False\n",
      "Name: firstfirst2, dtype: bool\n",
      "c\n",
      "c\n",
      "0     True\n",
      "1     True\n",
      "2     True\n",
      "3    False\n",
      "Name: firstfirst2, dtype: bool\n",
      "d\n",
      "z\n"
     ]
    },
    {
     "name": "stderr",
     "output_type": "stream",
     "text": [
      "C:\\Users\\sseelam\\AppData\\Local\\Temp\\ipykernel_7388\\4267588819.py:5: SettingWithCopyWarning: \n",
      "A value is trying to be set on a copy of a slice from a DataFrame\n",
      "\n",
      "See the caveats in the documentation: https://pandas.pydata.org/pandas-docs/stable/user_guide/indexing.html#returning-a-view-versus-a-copy\n",
      "  d1[sour+tar][j] = d1[sour][j] == d1[tar][j]\n"
     ]
    }
   ],
   "source": [
    "for i in range (length):\n",
    "    sour = sourse[1]\n",
    "    tar  = target[1]\n",
    "    for j in range (len(d1)):\n",
    "        d1[sour+tar][j] = d1[sour][j] == d1[tar][j]\n",
    "        print(d1[sour+tar])\n",
    "        print(d1[sour][j])\n",
    "        print(d1[tar][j])\n",
    "    "
   ]
  },
  {
   "cell_type": "code",
   "execution_count": 90,
   "id": "d89a2bfd",
   "metadata": {},
   "outputs": [
    {
     "data": {
      "text/html": [
       "<div>\n",
       "<style scoped>\n",
       "    .dataframe tbody tr th:only-of-type {\n",
       "        vertical-align: middle;\n",
       "    }\n",
       "\n",
       "    .dataframe tbody tr th {\n",
       "        vertical-align: top;\n",
       "    }\n",
       "\n",
       "    .dataframe thead th {\n",
       "        text-align: right;\n",
       "    }\n",
       "</style>\n",
       "<table border=\"1\" class=\"dataframe\">\n",
       "  <thead>\n",
       "    <tr style=\"text-align: right;\">\n",
       "      <th></th>\n",
       "      <th>id</th>\n",
       "      <th>first</th>\n",
       "      <th>last</th>\n",
       "      <th>id2</th>\n",
       "      <th>first2</th>\n",
       "      <th>last2</th>\n",
       "      <th>idid2</th>\n",
       "      <th>firstfirst2</th>\n",
       "      <th>lastlast2</th>\n",
       "    </tr>\n",
       "  </thead>\n",
       "  <tbody>\n",
       "    <tr>\n",
       "      <th>0</th>\n",
       "      <td>1</td>\n",
       "      <td>a</td>\n",
       "      <td>e</td>\n",
       "      <td>1</td>\n",
       "      <td>a</td>\n",
       "      <td>e</td>\n",
       "      <td>True</td>\n",
       "      <td>True</td>\n",
       "      <td>True</td>\n",
       "    </tr>\n",
       "    <tr>\n",
       "      <th>1</th>\n",
       "      <td>2</td>\n",
       "      <td>b</td>\n",
       "      <td>f</td>\n",
       "      <td>2</td>\n",
       "      <td>b</td>\n",
       "      <td>f</td>\n",
       "      <td>True</td>\n",
       "      <td>True</td>\n",
       "      <td>True</td>\n",
       "    </tr>\n",
       "    <tr>\n",
       "      <th>2</th>\n",
       "      <td>3</td>\n",
       "      <td>c</td>\n",
       "      <td>g</td>\n",
       "      <td>3</td>\n",
       "      <td>c</td>\n",
       "      <td>g</td>\n",
       "      <td>True</td>\n",
       "      <td>True</td>\n",
       "      <td>True</td>\n",
       "    </tr>\n",
       "    <tr>\n",
       "      <th>3</th>\n",
       "      <td>4</td>\n",
       "      <td>d</td>\n",
       "      <td>h</td>\n",
       "      <td>4</td>\n",
       "      <td>z</td>\n",
       "      <td>h</td>\n",
       "      <td>True</td>\n",
       "      <td>False</td>\n",
       "      <td>True</td>\n",
       "    </tr>\n",
       "  </tbody>\n",
       "</table>\n",
       "</div>"
      ],
      "text/plain": [
       "   id first last  id2 first2 last2  idid2  firstfirst2  lastlast2\n",
       "0   1     a    e    1      a     e   True         True       True\n",
       "1   2     b    f    2      b     f   True         True       True\n",
       "2   3     c    g    3      c     g   True         True       True\n",
       "3   4     d    h    4      z     h   True        False       True"
      ]
     },
     "execution_count": 90,
     "metadata": {},
     "output_type": "execute_result"
    }
   ],
   "source": [
    "d1"
   ]
  },
  {
   "cell_type": "code",
   "execution_count": 94,
   "id": "5438e39a",
   "metadata": {},
   "outputs": [
    {
     "name": "stdout",
     "output_type": "stream",
     "text": [
      "['id', 'id2', 'idid2', 'first', 'first2', 'firstfirst2', 'last', 'last2', 'lastlast2']\n"
     ]
    }
   ],
   "source": [
    "list = []\n",
    "for i in range (length):\n",
    "    sour = sourse[i]\n",
    "    tar  = target[i]\n",
    "    list.append(sour)\n",
    "    list.append(tar)\n",
    "    list.append(sour+tar)\n",
    "print(list)\n",
    "    "
   ]
  },
  {
   "cell_type": "code",
   "execution_count": 95,
   "id": "b81eaa5d",
   "metadata": {},
   "outputs": [
    {
     "data": {
      "text/html": [
       "<div>\n",
       "<style scoped>\n",
       "    .dataframe tbody tr th:only-of-type {\n",
       "        vertical-align: middle;\n",
       "    }\n",
       "\n",
       "    .dataframe tbody tr th {\n",
       "        vertical-align: top;\n",
       "    }\n",
       "\n",
       "    .dataframe thead th {\n",
       "        text-align: right;\n",
       "    }\n",
       "</style>\n",
       "<table border=\"1\" class=\"dataframe\">\n",
       "  <thead>\n",
       "    <tr style=\"text-align: right;\">\n",
       "      <th></th>\n",
       "      <th>id</th>\n",
       "      <th>id2</th>\n",
       "      <th>idid2</th>\n",
       "      <th>first</th>\n",
       "      <th>first2</th>\n",
       "      <th>firstfirst2</th>\n",
       "      <th>last</th>\n",
       "      <th>last2</th>\n",
       "      <th>lastlast2</th>\n",
       "    </tr>\n",
       "  </thead>\n",
       "  <tbody>\n",
       "    <tr>\n",
       "      <th>0</th>\n",
       "      <td>1</td>\n",
       "      <td>1</td>\n",
       "      <td>True</td>\n",
       "      <td>a</td>\n",
       "      <td>a</td>\n",
       "      <td>True</td>\n",
       "      <td>e</td>\n",
       "      <td>e</td>\n",
       "      <td>True</td>\n",
       "    </tr>\n",
       "    <tr>\n",
       "      <th>1</th>\n",
       "      <td>2</td>\n",
       "      <td>2</td>\n",
       "      <td>True</td>\n",
       "      <td>b</td>\n",
       "      <td>b</td>\n",
       "      <td>True</td>\n",
       "      <td>f</td>\n",
       "      <td>f</td>\n",
       "      <td>True</td>\n",
       "    </tr>\n",
       "    <tr>\n",
       "      <th>2</th>\n",
       "      <td>3</td>\n",
       "      <td>3</td>\n",
       "      <td>True</td>\n",
       "      <td>c</td>\n",
       "      <td>c</td>\n",
       "      <td>True</td>\n",
       "      <td>g</td>\n",
       "      <td>g</td>\n",
       "      <td>True</td>\n",
       "    </tr>\n",
       "    <tr>\n",
       "      <th>3</th>\n",
       "      <td>4</td>\n",
       "      <td>4</td>\n",
       "      <td>True</td>\n",
       "      <td>d</td>\n",
       "      <td>z</td>\n",
       "      <td>False</td>\n",
       "      <td>h</td>\n",
       "      <td>h</td>\n",
       "      <td>True</td>\n",
       "    </tr>\n",
       "  </tbody>\n",
       "</table>\n",
       "</div>"
      ],
      "text/plain": [
       "   id  id2  idid2 first first2  firstfirst2 last last2  lastlast2\n",
       "0   1    1   True     a      a         True    e     e       True\n",
       "1   2    2   True     b      b         True    f     f       True\n",
       "2   3    3   True     c      c         True    g     g       True\n",
       "3   4    4   True     d      z        False    h     h       True"
      ]
     },
     "execution_count": 95,
     "metadata": {},
     "output_type": "execute_result"
    }
   ],
   "source": [
    "d1[list]"
   ]
  },
  {
   "cell_type": "code",
   "execution_count": null,
   "id": "b6e1d6e2",
   "metadata": {},
   "outputs": [],
   "source": []
  }
 ],
 "metadata": {
  "kernelspec": {
   "display_name": "Python 3 (ipykernel)",
   "language": "python",
   "name": "python3"
  },
  "language_info": {
   "codemirror_mode": {
    "name": "ipython",
    "version": 3
   },
   "file_extension": ".py",
   "mimetype": "text/x-python",
   "name": "python",
   "nbconvert_exporter": "python",
   "pygments_lexer": "ipython3",
   "version": "3.9.12"
  }
 },
 "nbformat": 4,
 "nbformat_minor": 5
}
